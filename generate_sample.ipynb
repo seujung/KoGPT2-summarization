{
 "cells": [
  {
   "cell_type": "code",
   "execution_count": 9,
   "metadata": {},
   "outputs": [],
   "source": [
    "import yaml\n",
    "import torch\n",
    "import torch.nn.functional as F\n",
    "from train_ptuning import KoGPTConditionalGeneration\n",
    "from utils import generate_next_token"
   ]
  },
  {
   "cell_type": "code",
   "execution_count": 2,
   "metadata": {},
   "outputs": [
    {
     "name": "stderr",
     "output_type": "stream",
     "text": [
      "/usr/local/lib/python3.6/dist-packages/ipykernel_launcher.py:5: YAMLLoadWarning: calling yaml.load() without Loader=... is deprecated, as the default Loader is unsafe. Please read https://msg.pyyaml.org/load for full details.\n",
      "  \"\"\"\n"
     ]
    }
   ],
   "source": [
    "hparams_file = 'log/hparams.yaml'\n",
    "with open(hparams_file) as f:\n",
    "    hparams = yaml.load(f)"
   ]
  },
  {
   "cell_type": "code",
   "execution_count": 3,
   "metadata": {},
   "outputs": [],
   "source": [
    "inf = KoGPTConditionalGeneration.load_from_checkpoint('./log/KoGPT2_summary-last.ckpt', hparams=hparams)"
   ]
  },
  {
   "cell_type": "code",
   "execution_count": 4,
   "metadata": {},
   "outputs": [],
   "source": [
    "tokenizer = inf.tokenizer"
   ]
  },
  {
   "cell_type": "code",
   "execution_count": 5,
   "metadata": {},
   "outputs": [],
   "source": [
    "SUMMARY = '<unused1>'\n",
    "PTUNING = '<unused2>'\n",
    "EOS = '</s>'"
   ]
  },
  {
   "cell_type": "code",
   "execution_count": 6,
   "metadata": {},
   "outputs": [],
   "source": [
    "text = \"\"\"수도권 지역 일일 코로나19 신규 확진자가 지난 3차 유행 이후 반년 만에 연일 600명대를 기록하면서 다음 주 수도권 지역에 새로운 사회적 거리두기 체계를 적용할 수 있을지 관심이 쏠리고 있다.\n",
    "\n",
    "젊은 층을 중심으로 확진자가 늘고 있고 인도에서 유래한 델타 변이 바이러스가 수도권 집단감염 사례에서 발견되는 등 유행 상황이 심상치 않다.\n",
    "\n",
    "감염병 전문가들은 상황이 나아질 때까지 새 거리두기 적용을 미뤄야 한다고 조언했다. 새 거리두기를 시행한다면 단계를 높여서 적용하거나 여름 휴가, 변이 유행 등을 대비해 방역 조처를 강화해야 한다고 강조했다.\n",
    "\n",
    "2일 질병관리청 중앙방역대책본부에 따르면 이날 0시 기준 국내 일일 코로나19 신규 확진자는 826명이다.\n",
    "\n",
    "지난달 30일과 이달 1일 연이틀 700명대로 집계된 데 이어 이날 800명대로 급증했다. 이는 3차 유행이 정점에 도달한 직후였던 1월7일 869명 이후 176일 만에 최대 규모다. 국내 발생 확진자 수도 같은 기간 최대 규모인 765명을 기록했다. 일주일간 하루 평균 환자 수는 635.6명으로, 이틀 연속 600명대에서 증가하고 있다.\n",
    "\n",
    "특히 수도권 지역 유행세가 크게 증가하고 있다. 수도권 지역 국내 발생 확진자는 지난달 30일 631명을 기록한 데 이어 이달 1일 607명, 이날 619명으로 집계됐다. 연일 600명대를 기록한 건 지난 1월7일 이후 처음이다.\n",
    "\n",
    "최근 수도권 지역에서 유행 증가세를 보이자 중앙재난안전대책본부(중대본)와 수도권 3개 시·도는 당초 1일 적용하려던 새 거리두기 체계 시행을 일주일 연기했다. 중대본과 수도권 지자체는 이번 주까지 유행 상황을 지켜본 후 다음 주 초에 논의를 거쳐 새 체계 적용 여부를 결정할 계획이다.\n",
    "\"\"\""
   ]
  },
  {
   "cell_type": "code",
   "execution_count": 7,
   "metadata": {},
   "outputs": [],
   "source": [
    "text = text.replace('\\n', '')\n",
    "input_tokens = tokenizer.encode(PTUNING)* 10 + tokenizer.encode(text) + tokenizer.encode(SUMMARY)\n",
    "input_tensor = torch.tensor(input_tokens).unsqueeze(0)\n",
    "\n",
    "eos_id = tokenizer.encode(EOS)[0]"
   ]
  },
  {
   "cell_type": "code",
   "execution_count": 10,
   "metadata": {},
   "outputs": [],
   "source": [
    "while True:\n",
    "    pred = inf.model(input_tensor)\n",
    "    next_token = generate_next_token(pred.logits, temperature=1.0, top_p=0.8)\n",
    "\n",
    "    if next_token.item() == eos_id:\n",
    "        break\n",
    "    else:\n",
    "        input_tensor = torch.cat([input_tensor, next_token.unsqueeze(0)],1)\n"
   ]
  },
  {
   "cell_type": "code",
   "execution_count": 11,
   "metadata": {},
   "outputs": [
    {
     "data": {
      "text/plain": [
       "'<unused2><unused2><unused2><unused2><unused2><unused2><unused2><unused2><unused2><unused2> 수도권 지역 일일 코로나19 신규 확진자가 지난 3차 유행 이후 반년 만에 연일 600명대를 기록하면서 다음 주 수도권 지역에 새로운 사회적 거리두기 체계를 적용할 수 있을지 관심이 쏠리고 있다.젊은 층을 중심으로 확진자가 늘고 있고 인도에서 유래한 델타 변이 바이러스가 수도권 집단감염 사례에서 발견되는 등 유행 상황이 심상치 않다.감염병 전문가들은 상황이 나아질 때까지 새 거리두기 적용을 미뤄야 한다고 조언했다. 새 거리두기를 시행한다면 단계를 높여서 적용하거나 여름 휴가, 변이 유행 등을 대비해 방역 조처를 강화해야 한다고 강조했다.2일 질병관리청 중앙방역대책본부에 따르면 이날 0시 기준 국내 일일 코로나19 신규 확진자는 826명이다.지난달 30일과 이달 1일 연이틀 700명대로 집계된 데 이어 이날 800명대로 급증했다. 이는 3차 유행이 정점에 도달한 직후였던 1월7일 869명 이후 176일 만에 최대 규모다. 국내 발생 확진자 수도 같은 기간 최대 규모인 765명을 기록했다. 일주일간 하루 평균 환자 수는 635.6명으로, 이틀 연속 600명대에서 증가하고 있다.특히 수도권 지역 유행세가 크게 증가하고 있다. 수도권 지역 국내 발생 확진자는 지난달 30일 631명을 기록한 데 이어 이달 1일 607명, 이날 619명으로 집계됐다. 연일 600명대를 기록한 건 지난 1월7일 이후 처음이다.최근 수도권 지역에서 유행 증가세를 보이자 중앙재난안전대책본부(중대본)와 수도권 3개 시·도는 당초 1일 적용하려던 새 거리두기 체계 시행을 일주일 연기했다. 중대본과 수도권 지자체는 이번 주까지 유행 상황을 지켜본 후 다음 주 초에 논의를 거쳐 새 체계 적용 여부를 결정할 계획이다.<unused1> 코로나19 감염병 전문가들은 수도권에서 코로나19가 연일 700명대를 기록하면서 재생산이 시작된 만큼 단계 상향 또는 완화 등 새로운 사회적 거리두기 체계 적용을 미뤄야 한다고 지적하고 있다.'"
      ]
     },
     "execution_count": 11,
     "metadata": {},
     "output_type": "execute_result"
    }
   ],
   "source": [
    "tokenizer.decode(input_tensor[0])"
   ]
  },
  {
   "cell_type": "code",
   "execution_count": 12,
   "metadata": {},
   "outputs": [
    {
     "data": {
      "text/plain": [
       "'코로나19 감염병 전문가들은 수도권에서 코로나19가 연일 700명대를 기록하면서 재생산이 시작된 만큼 단계 상향 또는 완화 등 새로운 사회적 거리두기 체계 적용을 미뤄야 한다고 지적하고 있다.'"
      ]
     },
     "execution_count": 12,
     "metadata": {},
     "output_type": "execute_result"
    }
   ],
   "source": [
    "tokenizer.decode(input_tensor[0]).split('<unused1>')[-1].strip()"
   ]
  }
 ],
 "metadata": {
  "kernelspec": {
   "display_name": "Python 3",
   "language": "python",
   "name": "python3"
  },
  "language_info": {
   "codemirror_mode": {
    "name": "ipython",
    "version": 3
   },
   "file_extension": ".py",
   "mimetype": "text/x-python",
   "name": "python",
   "nbconvert_exporter": "python",
   "pygments_lexer": "ipython3",
   "version": "3.6.11"
  }
 },
 "nbformat": 4,
 "nbformat_minor": 4
}
